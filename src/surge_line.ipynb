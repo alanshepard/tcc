{
 "cells": [
  {
   "cell_type": "code",
   "execution_count": 18,
   "metadata": {},
   "outputs": [],
   "source": [
    "import numpy as np"
   ]
  },
  {
   "cell_type": "code",
   "execution_count": 19,
   "metadata": {},
   "outputs": [],
   "source": [
    "from engine import Engine, SurgeLineParameters"
   ]
  },
  {
   "cell_type": "code",
   "execution_count": 20,
   "metadata": {},
   "outputs": [],
   "source": [
    "y=np.ones(10)"
   ]
  },
  {
   "cell_type": "code",
   "execution_count": 21,
   "metadata": {},
   "outputs": [
    {
     "data": {
      "text/plain": [
       "array([-1.20434375e+01, -9.90035365e-01,             nan, -8.43569322e-02,\n",
       "       -9.89976192e-01, -9.89896834e-01,  9.01990812e-03, -1.00207918e+00,\n",
       "        9.99000000e-01, -9.00000000e-01])"
      ]
     },
     "execution_count": 21,
     "metadata": {},
     "output_type": "execute_result"
    }
   ],
   "source": [
    "e=Engine()\n",
    "e.surge_line(1,0.01*y,0.1*y)"
   ]
  },
  {
   "cell_type": "code",
   "execution_count": 22,
   "metadata": {},
   "outputs": [],
   "source": [
    "from assimulo.solvers import IDA\n",
    "from assimulo.problem import Implicit_Problem"
   ]
  },
  {
   "cell_type": "code",
   "execution_count": 117,
   "metadata": {},
   "outputs": [],
   "source": [
    "y0 = SurgeLineParameters(T04_T02=4, \n",
    "                         MFP3=0.1, Mb_c=0.3, T0_ratio_c=1, P0_ratio_c=1,\n",
    "                         MFP4=0.1, MFP5=0.1, Mb_t=0.3, T0_ratio_t=1, P0_ratio_t=1)\n",
    "prob = Implicit_Problem(e.surge_line, t0=0.1, y0=y0, yd0=0.01*np.ones(10))"
   ]
  },
  {
   "cell_type": "code",
   "execution_count": 118,
   "metadata": {},
   "outputs": [
    {
     "data": {
      "text/plain": [
       "array([-0.26160312, -0.03048602, -0.0909231 ,  0.00564307,  0.00129314,\n",
       "        0.00559153, -0.28805513,  0.        ,  0.25      , -0.999     ])"
      ]
     },
     "execution_count": 118,
     "metadata": {},
     "output_type": "execute_result"
    }
   ],
   "source": [
    "e.surge_line(0.3,y0, 0.001*np.ones(10))"
   ]
  },
  {
   "cell_type": "code",
   "execution_count": 119,
   "metadata": {},
   "outputs": [],
   "source": [
    "ida = IDA(prob)\n",
    "ida.algvar = np.full_like(y0, False)\n",
    "# SurgeLineParameters(T04_T02=False, \n",
    "#                MFP3=False, Mb_c=False, T0_ratio_c=False, P0_ratio_c=True,\n",
    "#                MFP4=True, MFP5=False, Mb_t=False, T0_ratio_t=False, P0_ratio_t=True)\n",
    "ida.tout1 = 0.2"
   ]
  },
  {
   "cell_type": "code",
   "execution_count": 120,
   "metadata": {},
   "outputs": [
    {
     "data": {
      "text/plain": [
       "[0, array([1.0568037 , 0.11807662, 0.1708814 , 1.00921634, 1.02550818,\n",
       "        0.10024392, 0.09722409, 0.16960195, 0.99285238, 0.9693939 ]), array([0.01, 0.01, 0.01, 0.01, 0.01, 0.01, 0.01, 0.01, 0.01, 0.01])]"
      ]
     },
     "execution_count": 120,
     "metadata": {},
     "output_type": "execute_result"
    }
   ],
   "source": [
    "ida.make_consistent('IDA_YA_YDP_INIT')"
   ]
  },
  {
   "cell_type": "code",
   "execution_count": 100,
   "metadata": {},
   "outputs": [
    {
     "ename": "IDAError",
     "evalue": "'The solver took max internal steps but could not reach tout. At time 0.157290.'",
     "output_type": "error",
     "traceback": [
      "\u001b[0;31m---------------------------------------------------------------------------\u001b[0m\n\u001b[0;31mIDAError\u001b[0m                                  Traceback (most recent call last)",
      "\u001b[0;32m<ipython-input-100-cfb084dab1ba>\u001b[0m in \u001b[0;36m<module>\u001b[0;34m()\u001b[0m\n\u001b[0;32m----> 1\u001b[0;31m \u001b[0mt\u001b[0m\u001b[0;34m,\u001b[0m \u001b[0my\u001b[0m\u001b[0;34m,\u001b[0m \u001b[0myd\u001b[0m \u001b[0;34m=\u001b[0m \u001b[0mida\u001b[0m\u001b[0;34m.\u001b[0m\u001b[0msimulate\u001b[0m\u001b[0;34m(\u001b[0m\u001b[0;36m0.2\u001b[0m\u001b[0;34m,\u001b[0m \u001b[0;36m10\u001b[0m\u001b[0;34m)\u001b[0m\u001b[0;34m\u001b[0m\u001b[0m\n\u001b[0m",
      "\u001b[0;32m/home/bernardo/.local/lib/python3.5/site-packages/Assimulo-3.0-py3.5-linux-x86_64.egg/assimulo/ode.cpython-35m-x86_64-linux-gnu.so\u001b[0m in \u001b[0;36massimulo.ode.ODE.simulate (assimulo/ode.c:6059)\u001b[0;34m()\u001b[0m\n",
      "\u001b[0;32m/home/bernardo/.local/lib/python3.5/site-packages/Assimulo-3.0-py3.5-linux-x86_64.egg/assimulo/ode.cpython-35m-x86_64-linux-gnu.so\u001b[0m in \u001b[0;36massimulo.ode.ODE.simulate (assimulo/ode.c:5545)\u001b[0;34m()\u001b[0m\n",
      "\u001b[0;32m/home/bernardo/.local/lib/python3.5/site-packages/Assimulo-3.0-py3.5-linux-x86_64.egg/assimulo/implicit_ode.cpython-35m-x86_64-linux-gnu.so\u001b[0m in \u001b[0;36massimulo.implicit_ode.Implicit_ODE._simulate (assimulo/implicit_ode.c:5572)\u001b[0;34m()\u001b[0m\n",
      "\u001b[0;32m/home/bernardo/.local/lib/python3.5/site-packages/Assimulo-3.0-py3.5-linux-x86_64.egg/assimulo/implicit_ode.cpython-35m-x86_64-linux-gnu.so\u001b[0m in \u001b[0;36massimulo.implicit_ode.Implicit_ODE._simulate (assimulo/implicit_ode.c:4152)\u001b[0;34m()\u001b[0m\n",
      "\u001b[0;32m/home/bernardo/.local/lib/python3.5/site-packages/Assimulo-3.0-py3.5-linux-x86_64.egg/assimulo/solvers/sundials.cpython-35m-x86_64-linux-gnu.so\u001b[0m in \u001b[0;36massimulo.solvers.sundials.IDA.integrate (assimulo/solvers/sundials.c:19037)\u001b[0;34m()\u001b[0m\n",
      "\u001b[0;32m/home/bernardo/.local/lib/python3.5/site-packages/Assimulo-3.0-py3.5-linux-x86_64.egg/assimulo/solvers/sundials.cpython-35m-x86_64-linux-gnu.so\u001b[0m in \u001b[0;36massimulo.solvers.sundials.IDA.integrate (assimulo/solvers/sundials.c:18558)\u001b[0;34m()\u001b[0m\n",
      "\u001b[0;31mIDAError\u001b[0m: 'The solver took max internal steps but could not reach tout. At time 0.157290.'"
     ]
    }
   ],
   "source": [
    "t, y, yd = ida.simulate(0.2, 10)"
   ]
  },
  {
   "cell_type": "code",
   "execution_count": null,
   "metadata": {},
   "outputs": [],
   "source": [
    "i=7\n",
    "e.surge_line(t[i],y[i],yd[i])"
   ]
  },
  {
   "cell_type": "code",
   "execution_count": null,
   "metadata": {},
   "outputs": [],
   "source": [
    "y"
   ]
  },
  {
   "cell_type": "code",
   "execution_count": null,
   "metadata": {},
   "outputs": [],
   "source": [
    "import matplotlib.pyplot as plt\n",
    "%matplotlib inline"
   ]
  },
  {
   "cell_type": "code",
   "execution_count": null,
   "metadata": {},
   "outputs": [],
   "source": [
    "y[:,3]"
   ]
  },
  {
   "cell_type": "code",
   "execution_count": null,
   "metadata": {},
   "outputs": [],
   "source": [
    "plt.plot(t, y[:,4])"
   ]
  },
  {
   "cell_type": "code",
   "execution_count": null,
   "metadata": {},
   "outputs": [],
   "source": []
  },
  {
   "cell_type": "code",
   "execution_count": null,
   "metadata": {},
   "outputs": [],
   "source": []
  }
 ],
 "metadata": {
  "kernelspec": {
   "display_name": "Python 3",
   "language": "python",
   "name": "python3"
  },
  "language_info": {
   "codemirror_mode": {
    "name": "ipython",
    "version": 3
   },
   "file_extension": ".py",
   "mimetype": "text/x-python",
   "name": "python",
   "nbconvert_exporter": "python",
   "pygments_lexer": "ipython3",
   "version": "3.6.7"
  }
 },
 "nbformat": 4,
 "nbformat_minor": 1
}
