{
 "metadata": {
  "kernelspec": {
   "display_name": "Python 3",
   "language": "python",
   "name": "python3"
  },
  "language_info": {
   "codemirror_mode": {
    "name": "ipython",
    "version": 3
   },
   "file_extension": ".py",
   "mimetype": "text/x-python",
   "name": "python",
   "nbconvert_exporter": "python",
   "pygments_lexer": "ipython3",
   "version": "3.6.7"
  },
  "name": "",
  "signature": "sha256:f7b0cc3efffce58afcb0056a394e04c5a77ba3fed0a61a7603297f574a658806"
 },
 "nbformat": 3,
 "nbformat_minor": 0,
 "worksheets": [
  {
   "cells": [
    {
     "cell_type": "code",
     "collapsed": false,
     "input": [
      "import numpy as np\n",
      "import matplotlib.pyplot as plt\n",
      "%matplotlib inline\n",
      "\n",
      "from turbine import Turbine\n",
      "from mfp2mach import mach2mfp"
     ],
     "language": "python",
     "metadata": {},
     "outputs": []
    },
    {
     "cell_type": "code",
     "collapsed": false,
     "input": [
      "t=Turbine()\n",
      "MFP_choke = mach2mfp(1,t.gam)"
     ],
     "language": "python",
     "metadata": {},
     "outputs": []
    },
    {
     "cell_type": "code",
     "collapsed": false,
     "input": [
      "samples = 50\n",
      "MFP1, MFP2 = np.meshgrid(np.linspace(0,MFP_choke,samples), np.linspace(0,MFP_choke,samples))\n",
      "success = np.empty_like(MFP1, dtype=bool)"
     ],
     "language": "python",
     "metadata": {},
     "outputs": []
    },
    {
     "cell_type": "code",
     "collapsed": false,
     "input": [
      "for i in range(samples):\n",
      "    for j in range(samples):\n",
      "        sol=t.general_explicit_map({'MFP1': MFP1[i,j], 'MFP2': MFP2[i,j]})\n",
      "        success[i,j]=sol.success"
     ],
     "language": "python",
     "metadata": {},
     "outputs": []
    },
    {
     "cell_type": "code",
     "collapsed": false,
     "input": [
      "plt.imshow(success, origin='lower')"
     ],
     "language": "python",
     "metadata": {},
     "outputs": []
    }
   ],
   "metadata": {}
  }
 ]
}