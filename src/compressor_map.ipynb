{
 "cells": [
  {
   "cell_type": "code",
   "execution_count": null,
   "metadata": {},
   "outputs": [],
   "source": [
    "from math import tan, pi\n",
    "from scipy.optimize import root\n",
    "import numpy as np\n",
    "\n",
    "from mfp2mach import mach2mfp, mfp2mach\n",
    "import compressor_losses as losses"
   ]
  },
  {
   "cell_type": "code",
   "execution_count": null,
   "metadata": {},
   "outputs": [],
   "source": [
    "class Compressor():\n",
    "    def __init__(self):\n",
    "        geom = {\n",
    "        #Measured parameters\n",
    "        'b': 5e-3,\n",
    "        'D2': 64e-3,\n",
    "        'D1t': 42.8e-3,\n",
    "        'D1h': 17e-3,\n",
    "        'beta2': 10*pi/180,\n",
    "        'beta1': 40*pi/180,\n",
    "        'alfa3': 69*pi/180,\n",
    "        'Z': 10,\n",
    "        }\n",
    "\n",
    "        # Add derived geometry to geom\n",
    "        geom['A1'] = pi/4*(geom['D1t']**2-geom['D1h']**2)\n",
    "        geom['A2'] = pi*geom['D2']*geom['b']\n",
    "        geom['A_ratio'] = geom['A2']/geom['A1']\n",
    "        geom['R_ratio'] = geom['D2']/((geom['D1h']**2 + geom['D1t']**2)/2)**0.5\n",
    "        geom['D1t_D2'] = geom['D1t']/geom['D2']\n",
    "        geom['D1h_D2'] = geom['D1h']/geom['D2']\n",
    "        \n",
    "        self.geom=geom\n",
    "        \n",
    "        self.gam=1.4\n",
    "    \n",
    "    def implicit_map(self, MFP1, MFP2, Mb, T0_ratio, P0_ratio, tol=1e-16):\n",
    "        #Unpack constants\n",
    "        gam = self.gam\n",
    "        slip_factor = 0.9\n",
    "        beta2 = self.geom['beta2']\n",
    "        A_ratio = self.geom['A_ratio']        \n",
    "    \n",
    "        #Non linear model\n",
    "        M1 = mfp2mach(MFP1, gam, tol)\n",
    "        M2 = mfp2mach(MFP2, gam, tol)\n",
    "        \n",
    "        phi1 = MFP1/Mb*(1+(gam-1)/2*M1**2)**(1/(gam-1))\n",
    "        phi2 = MFP2/Mb*(1+(gam-1)/2*M2**2)**(1/(gam-1))*T0_ratio**0.5\n",
    "        \n",
    "        psi_euler = slip_factor*(1-phi2*tan(beta2))\n",
    "        loss_internal = losses.internal(slip_factor=slip_factor, phi1=phi1, phi2=phi2, psi_euler=psi_euler, **self.geom)\n",
    "        loss_parasitic = losses.parasitic(slip_factor=slip_factor, phi1=phi1, phi2=phi2, psi_euler=psi_euler, **self.geom)\n",
    "        psi_isen = psi_euler-sum(loss_internal.values())\n",
    "        psi_actual = psi_euler+sum(loss_parasitic.values())\n",
    "        \n",
    "        res_T0_ratio = T0_ratio - ((gam-1)*psi_actual*Mb**2 + 1)\n",
    "        res_P0_ratio = P0_ratio - ((gam-1)*psi_isen*Mb**2 + 1)**(gam/(gam-1))\n",
    "        res_MFP = MFP2 - MFP1*T0_ratio**0.5/(A_ratio*P0_ratio)\n",
    "        \n",
    "        return res_MFP, res_T0_ratio, res_P0_ratio\n",
    "    \n",
    "    def general_explicit_map(self, params, initial_guesses=None):\n",
    "        \n",
    "        default_params = {'MFP1':0.2, 'MFP2':0.2, 'Mb':1, 'T0_ratio':1, 'P0_ratio':1}\n",
    "        \n",
    "        if initial_guesses is None:\n",
    "            initial_guesses = {k: v for k,v in default_params.items() if k not in params.keys()}\n",
    "        \n",
    "        assert len(params) == 2, \"exactly two parameters are required\"\n",
    "        assert len(initial_guesses) == 3, \"exactly three initial guesses are required\"\n",
    "        assert params.keys() | initial_guesses.keys() == default_params.keys(), \"missing value for {}\".format(default_params.keys() - (params.keys() | initial_guesses.keys()))\n",
    "        assert params.keys().isdisjoint(initial_guesses.keys()), \"A parameter cannot be supplied as both a initial guess and a fixed parameter\"\n",
    "        \n",
    "        def fsv(x):\n",
    "            kwargs = params\n",
    "            kwargs.update(dict(zip(initial_guesses.keys(), x)))\n",
    "            res = self.implicit_map(**kwargs)\n",
    "            \n",
    "            return res\n",
    "          \n",
    "        sol = root(fsv, list(initial_guesses.values()))  \n",
    "        params.update(dict(zip(initial_guesses.keys(), sol.x)))\n",
    "        sol.params=params\n",
    "        \n",
    "        return sol\n",
    "                \n",
    "    \n",
    "    def explicit_map(self, MFP1, P0_ratio, initial_guess=[0.1, 1, 0.1]):\n",
    "        dependent_vars = ('Mb', 'T0_ratio', 'MFP2')\n",
    "        param = dict(zip(dependent_vars, range(len(dependent_vars))))\n",
    "        \n",
    "        def fsv(x):\n",
    "            MFP2 = x[param['MFP2']]\n",
    "            Mb = x[param['Mb']]\n",
    "            T0_ratio = x[param['T0_ratio']]\n",
    "            \n",
    "            res = self.implicit_map(MFP1, MFP2, Mb, T0_ratio, P0_ratio)\n",
    "            \n",
    "            return res\n",
    "            \n",
    "        sol = root(fsv, initial_guess,options={'eps': 1e-8})\n",
    "        sol.param = param\n",
    "        \n",
    "        return sol\n",
    "\n",
    "    \n",
    "    def outlet_choke(self, MFP1, x0=[0.1, 1, 1]):\n",
    "        dependent_vars = ('Mb', 'T0_ratio', 'P0_ratio')\n",
    "        param = dict(zip(dependent_vars, range(len(dependent_vars))))\n",
    "        \n",
    "        def fsv(x):\n",
    "            Mb = x[param['Mb']]\n",
    "            T0_ratio=x[param['T0_ratio']]\n",
    "            P0_ratio=x[param['P0_ratio']]\n",
    "            \n",
    "            MFP2 = mach2mfp(1,self.gam)\n",
    "            \n",
    "            res = self.implicit_map(MFP1, MFP2, Mb, T0_ratio, P0_ratio)\n",
    "            \n",
    "            return res\n",
    "            \n",
    "        sol = root(fsv, x0, options={'eps': 1e-8})\n",
    "        sol.param = param    \n",
    "        \n",
    "        return sol\n",
    "    \n",
    "    def critical_choke(self):\n",
    "        dependent_vars = ('Mb', 'T0_ratio', 'P0_ratio')\n",
    "        param = dict(zip(dependent_vars, range(len(dependent_vars))))\n",
    "        \n",
    "        def fsv(x):\n",
    "            Mb = x[param['Mb']]\n",
    "            T0_ratio=x[param['T0_ratio']]\n",
    "            P0_ratio=x[param['P0_ratio']]\n",
    "            \n",
    "            MFP1 = mach2mfp(1,self.gam)\n",
    "            MFP2 = mach2mfp(1,self.gam)\n",
    "            \n",
    "            res = self.implicit_map(MFP1, MFP2, Mb, T0_ratio, P0_ratio)\n",
    "            \n",
    "            return res\n",
    "            \n",
    "        sol = root(fsv, [0.1, 1, 1],options={'eps': 1e-8})\n",
    "        sol.param = param      \n",
    "        \n",
    "        return sol \n",
    "    "
   ]
  },
  {
   "cell_type": "code",
   "execution_count": null,
   "metadata": {},
   "outputs": [],
   "source": [
    "c = Compressor()\n",
    "c.implicit_map(MFP1=-0.1, MFP2=0.1, Mb=0.1, P0_ratio=1., T0_ratio=1)"
   ]
  },
  {
   "cell_type": "code",
   "execution_count": null,
   "metadata": {},
   "outputs": [],
   "source": [
    "c.general_explicit_map(params={'MFP2': 0.1, 'MFP1': 0.1})#, initial_guesses={'MFP2':0.2, 'Mb':1, 'T0_ratio':1})"
   ]
  },
  {
   "cell_type": "code",
   "execution_count": null,
   "metadata": {},
   "outputs": [],
   "source": [
    "c.outlet_choke(0.5)"
   ]
  },
  {
   "cell_type": "code",
   "execution_count": null,
   "metadata": {},
   "outputs": [],
   "source": [
    "sol_cr=c.critical_choke()\n",
    "sol_cr"
   ]
  },
  {
   "cell_type": "code",
   "execution_count": null,
   "metadata": {},
   "outputs": [],
   "source": [
    "import matplotlib.pyplot as plt\n",
    "%matplotlib inline\n",
    "plt.rc('text', usetex=True)\n",
    "plt.rc('font', family='serif')\n",
    "import numpy as np"
   ]
  },
  {
   "cell_type": "code",
   "execution_count": null,
   "metadata": {
    "scrolled": false
   },
   "outputs": [],
   "source": [
    "plt.plot(mach2mfp(1,1.4), sol_cr.x[sol_cr.param['P0_ratio']], '*')\n",
    "samples=100\n",
    "P0_max = 4\n",
    "MFP1_grid = np.empty((samples, samples))\n",
    "P0_grid = np.empty_like(MFP1_grid)\n",
    "x0 =sol_cr.x\n",
    "for i, MFP1 in enumerate(np.linspace(mach2mfp(1,1.4),0, samples)):\n",
    "    sol = c.outlet_choke(MFP1, x0)\n",
    "    x0=sol.x\n",
    "    P0_choke = sol.x[sol.param['P0_ratio']]\n",
    "    _=plt.plot(MFP1, P0_choke, '.')\n",
    "    MFP1_grid[i, :] = MFP1\n",
    "    P0_grid[i, :] = np.linspace(P0_max, P0_choke if P0_choke>1 else 1, samples)\n",
    "    \n",
    "_=plt.plot(MFP1_grid, P0_grid, '+')\n",
    "    "
   ]
  },
  {
   "cell_type": "code",
   "execution_count": null,
   "metadata": {},
   "outputs": [],
   "source": [
    "success=np.empty_like(MFP1_grid)\n",
    "Mb_grid=np.empty_like(MFP1_grid)\n",
    "nfev=np.empty_like(MFP1_grid)\n",
    "eff_grid=np.empty_like(MFP1_grid)\n",
    "x0 = [0.4, 1.1, 0.4]\n",
    "for i in range(samples):\n",
    "    for j in range(samples):\n",
    "        sol = c.explicit_map(MFP1_grid[i,j], P0_grid[i,j], x0)\n",
    "#         x0=sol.x if sol.success else [0.4, 1.1, 0.4]\n",
    "        success [i,j] = sol.success\n",
    "        nfev[i,j] = sol.nfev\n",
    "        Mb = sol.x[sol.param['Mb']]\n",
    "        Mb_grid[i,j] = Mb if sol.success else np.nan\n",
    "        eff = (c.gam-1)/c.gam*np.log(P0_grid[i,j])/np.log(sol.x[sol.param['T0_ratio']])\n",
    "        eff_grid[i,j] = eff if eff<=1 else np.nan\n",
    "        \n",
    "plt.imshow(success)\n"
   ]
  },
  {
   "cell_type": "code",
   "execution_count": null,
   "metadata": {},
   "outputs": [],
   "source": [
    "plt.imshow(nfev)"
   ]
  },
  {
   "cell_type": "code",
   "execution_count": null,
   "metadata": {},
   "outputs": [],
   "source": [
    "plt.imshow(Mb_grid)"
   ]
  },
  {
   "cell_type": "code",
   "execution_count": null,
   "metadata": {},
   "outputs": [],
   "source": [
    "plt.imshow(eff_grid)"
   ]
  },
  {
   "cell_type": "code",
   "execution_count": null,
   "metadata": {},
   "outputs": [],
   "source": [
    "plt.figure(figsize=(6,8),dpi=150)\n",
    "CS2 = plt.contour(MFP1_grid, P0_grid, Mb_grid, levels=np.arange(0,2,0.1), colors='k', linewidths=1.5)\n",
    "plt.clabel(CS2, CS2.levels, fmt='%.1f')\n",
    "# plt.plot(MFP1_grid, P0_grid, '+')\n",
    "CS2 = plt.contour(MFP1_grid, P0_grid, eff_grid, colors='k', linewidths=0.5, levels=[0.5,0.8,0.9,0.95])\n",
    "plt.clabel(CS2, CS2.levels, fmt='%.2f')\n",
    "plt.xlim((0,0.6))\n",
    "plt.ylim((1,4))\n",
    "plt.xlabel(\"MFP\")\n",
    "plt.ylabel(r\"$\\frac{P_{03}}{P_{02}}$\")\n",
    "plt.legend((\"Mb\", \"eta_p\"))\n",
    "plt.savefig('map.pdf', dpi=300)\n"
   ]
  },
  {
   "cell_type": "code",
   "execution_count": null,
   "metadata": {},
   "outputs": [],
   "source": [
    "(np.nanmax(eff_grid),np.nanmin(eff_grid))"
   ]
  },
  {
   "cell_type": "code",
   "execution_count": null,
   "metadata": {},
   "outputs": [],
   "source": [
    "# Define map corners\n",
    "# Define grid\n",
    "# Calculate coarse grid\n",
    "# Interpolate to fine grid\n",
    "# Calculate fine grid"
   ]
  },
  {
   "cell_type": "code",
   "execution_count": null,
   "metadata": {},
   "outputs": [],
   "source": [
    "a = {'a':0, 'b':1}\n",
    "b = {'c':2, 'a':1}"
   ]
  },
  {
   "cell_type": "code",
   "execution_count": null,
   "metadata": {},
   "outputs": [],
   "source": [
    "a.keys()-b.keys()"
   ]
  },
  {
   "cell_type": "code",
   "execution_count": null,
   "metadata": {},
   "outputs": [],
   "source": [
    "help(a.keys())"
   ]
  },
  {
   "cell_type": "code",
   "execution_count": null,
   "metadata": {},
   "outputs": [],
   "source": [
    "a[b.keys()]"
   ]
  },
  {
   "cell_type": "code",
   "execution_count": null,
   "metadata": {},
   "outputs": [],
   "source": []
  }
 ],
 "metadata": {
  "kernelspec": {
   "display_name": "Python 3",
   "language": "python",
   "name": "python3"
  },
  "language_info": {
   "codemirror_mode": {
    "name": "ipython",
    "version": 3
   },
   "file_extension": ".py",
   "mimetype": "text/x-python",
   "name": "python",
   "nbconvert_exporter": "python",
   "pygments_lexer": "ipython3",
   "version": "3.7.2"
  }
 },
 "nbformat": 4,
 "nbformat_minor": 2
}
