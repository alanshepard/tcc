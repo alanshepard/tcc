{
 "metadata": {
  "kernelspec": {
   "display_name": "Python 3",
   "language": "python",
   "name": "python3"
  },
  "language_info": {
   "codemirror_mode": {
    "name": "ipython",
    "version": 3
   },
   "file_extension": ".py",
   "mimetype": "text/x-python",
   "name": "python",
   "nbconvert_exporter": "python",
   "pygments_lexer": "ipython3",
   "version": "3.6.7"
  },
  "name": "",
  "signature": "sha256:a93d377c4243a8bdf5fbfa0a8e815d2cfac60b73e4eaa1a36f28dc3717e7fe1d"
 },
 "nbformat": 3,
 "nbformat_minor": 0,
 "worksheets": [
  {
   "cells": [
    {
     "cell_type": "code",
     "collapsed": false,
     "input": [
      "import matplotlib.pyplot as plt\n",
      "%matplotlib inline\n",
      "plt.rc('text', usetex=True)\n",
      "plt.rc('font', family='serif')\n",
      "import numpy as np\n",
      "import itertools\n",
      "\n",
      "from compressor import Compressor\n",
      "from mfp2mach import mach2mfp"
     ],
     "language": "python",
     "metadata": {},
     "outputs": []
    },
    {
     "cell_type": "code",
     "collapsed": false,
     "input": [
      "c = Compressor()\n",
      "c.implicit_map(MFP1=-0.1, MFP2=0.1, Mb=0.1, P0_ratio=1., T0_ratio=1)"
     ],
     "language": "python",
     "metadata": {},
     "outputs": []
    },
    {
     "cell_type": "code",
     "collapsed": false,
     "input": [
      "c.general_explicit_map(params={'MFP2': 0.3, 'MFP1': 0.3})#, initial_guesses={'MFP2':0.2, 'Mb':1, 'T0_ratio':1})"
     ],
     "language": "python",
     "metadata": {},
     "outputs": []
    },
    {
     "cell_type": "code",
     "collapsed": false,
     "input": [
      "# Define map corners\n",
      "P0_max = 4\n",
      "P0_min = 1\n",
      "MFP_choke = mach2mfp(1,c.gam)\n",
      "sol_cr = c.general_explicit_map({'MFP1': MFP_choke, 'MFP2': MFP_choke})\n",
      "sol_P1 = c.general_explicit_map({'MFP2': MFP_choke, 'P0_ratio': P0_min})\n",
      "plt.plot([0, sol_P1.params['MFP1'], MFP_choke], [1, 1, sol_cr.params['P0_ratio']])\n"
     ],
     "language": "python",
     "metadata": {},
     "outputs": []
    },
    {
     "cell_type": "code",
     "collapsed": false,
     "input": [
      "# Define grid\n",
      "samples=100\n",
      "def MFP_max(P0_ratio):\n",
      "    MFP = np.interp(P0_ratio, \n",
      "                   [sol_P1.params['P0_ratio'], sol_cr.params['P0_ratio']],\n",
      "                   [sol_P1.params['MFP1'], sol_cr.params['MFP1']])\n",
      "    return MFP\n",
      "  \n",
      "P0_ratio = np.linspace(P0_min, P0_max, samples)\n",
      "P0_grid = np.empty((samples, samples))\n",
      "MFP_grid = np.empty_like(P0_grid)\n",
      "for i, p in enumerate(P0_ratio):\n",
      "    MFP = np.linspace(1e-6,MFP_max(p), samples)\n",
      "    MFP_grid[:, i] = MFP\n",
      "    P0_grid[:, i] = p\n",
      "\n",
      "plt.plot(MFP_grid, P0_grid)\n",
      "plt.plot(MFP_grid[0,0], P0_grid[0,0], 'b*')\n",
      "plt.plot(MFP_grid[-1,-1], P0_grid[-1,-1], 'r*')\n",
      "# Calculate coarse grid\n",
      "# Interpolate to fine grid\n",
      "# Calculate fine grid"
     ],
     "language": "python",
     "metadata": {},
     "outputs": []
    },
    {
     "cell_type": "code",
     "collapsed": false,
     "input": [
      "nfev = np.empty_like(P0_grid, dtype=int)\n",
      "success = np.empty_like(P0_grid, dtype=bool)\n",
      "MFP2 = np.empty_like(P0_grid)\n",
      "Mb = np.empty_like(P0_grid)\n",
      "T0_ratio = np.empty_like(P0_grid)\n",
      "\n",
      "for i, j in itertools.product(range(samples), range(samples)):\n",
      "    sol = c.general_explicit_map(params={'MFP1': MFP_grid[i,j], 'P0_ratio': P0_grid[i,j]})\n",
      "    nfev[i,j] = sol.nfev\n",
      "    success[i,j] = sol.success\n",
      "    MFP2[i,j] = sol.params['MFP2']\n",
      "    Mb[i,j] = sol.params['Mb']\n",
      "    T0_ratio[i,j] = sol.params['T0_ratio']\n",
      "    \n",
      "eff = (c.gam-1)/c.gam*np.log(P0_grid)/np.log(T0_ratio)"
     ],
     "language": "python",
     "metadata": {},
     "outputs": []
    },
    {
     "cell_type": "code",
     "collapsed": false,
     "input": [
      "plt.imshow(success, origin='lower')"
     ],
     "language": "python",
     "metadata": {},
     "outputs": []
    },
    {
     "cell_type": "code",
     "collapsed": false,
     "input": [
      "plt.imshow(nfev, origin='lower')"
     ],
     "language": "python",
     "metadata": {},
     "outputs": []
    },
    {
     "cell_type": "code",
     "collapsed": false,
     "input": [
      "plt.imshow(MFP2, origin='lower')"
     ],
     "language": "python",
     "metadata": {},
     "outputs": []
    },
    {
     "cell_type": "code",
     "collapsed": false,
     "input": [
      "plt.imshow(Mb, origin='lower')"
     ],
     "language": "python",
     "metadata": {},
     "outputs": []
    },
    {
     "cell_type": "code",
     "collapsed": false,
     "input": [
      "plt.imshow(T0_ratio, origin='lower')"
     ],
     "language": "python",
     "metadata": {},
     "outputs": []
    },
    {
     "cell_type": "code",
     "collapsed": false,
     "input": [
      "plt.imshow(eff, origin='lower')"
     ],
     "language": "python",
     "metadata": {},
     "outputs": []
    },
    {
     "cell_type": "code",
     "collapsed": false,
     "input": [],
     "language": "python",
     "metadata": {},
     "outputs": []
    },
    {
     "cell_type": "code",
     "collapsed": false,
     "input": [
      "plt.figure(figsize=(6,8),dpi=150)\n",
      "# plt.plot(MFP_grid, P0_grid, 'k,')\n",
      "CS2 = plt.contour(MFP_grid, P0_grid, Mb, levels=np.arange(0,2,0.1), \n",
      "                    colors='k', linewidths=1.5)\n",
      "plt.clabel(CS2, CS2.levels, fmt='%.1f')\n",
      "CS2 = plt.contour(MFP_grid, P0_grid, eff, colors='k', linewidths=0.5,\n",
      "                  levels=[0.5,0.8,0.9,0.95])\n",
      "plt.clabel(CS2, CS2.levels, fmt='%.2f')\n",
      "plt.plot([MFP_choke, MFP_choke, sol_P1.params['MFP1']],\n",
      "         [P0_max, sol_cr.params['P0_ratio'], P0_min], 'k--', label='choke limit')\n",
      "plt.xlim((0,0.6))\n",
      "plt.ylim((1,4))\n",
      "plt.xlabel(\"MFP\")\n",
      "plt.ylabel(r\"$\\frac{P_{03}}{P_{02}}$\")\n",
      "# plt.legend((\"Mb\", \"eta_p\"))\n",
      "plt.legend()\n",
      "plt.savefig('map.pdf', dpi=300)\n",
      "\n",
      "ax = plt.gca()\n"
     ],
     "language": "python",
     "metadata": {},
     "outputs": []
    },
    {
     "cell_type": "code",
     "collapsed": false,
     "input": [
      "# np.savetxt('MFP_grid.gz', MFP_grid)\n",
      "# np.savetxt('P0_grid.gz', P0_grid)\n",
      "# np.savetxt('nfev_grid.gz', nfev)\n",
      "# np.savetxt('success_grid.gz', success)\n",
      "# np.savetxt('MFP2_grid.gz', MFP2)\n",
      "# np.savetxt('eff_grid.gz', eff)\n",
      "# np.savetxt('T0_grid.gz', T0_ratio)"
     ],
     "language": "python",
     "metadata": {},
     "outputs": []
    },
    {
     "cell_type": "code",
     "collapsed": false,
     "input": [
      "from turbine import Turbine"
     ],
     "language": "python",
     "metadata": {},
     "outputs": []
    },
    {
     "cell_type": "code",
     "collapsed": false,
     "input": [
      "t = Turbine()"
     ],
     "language": "python",
     "metadata": {},
     "outputs": []
    },
    {
     "cell_type": "code",
     "collapsed": false,
     "input": [
      "t.implicit_map(0.2,0.2,0.4,1,1)"
     ],
     "language": "python",
     "metadata": {},
     "outputs": []
    },
    {
     "cell_type": "code",
     "collapsed": false,
     "input": [
      "t.general_explicit_map(params={'P0_ratio': 1, 'MFP1': 0.5})"
     ],
     "language": "python",
     "metadata": {},
     "outputs": []
    },
    {
     "cell_type": "code",
     "collapsed": false,
     "input": [
      "from engine import Engine"
     ],
     "language": "python",
     "metadata": {},
     "outputs": []
    },
    {
     "cell_type": "code",
     "collapsed": false,
     "input": [
      "e = Engine()"
     ],
     "language": "python",
     "metadata": {},
     "outputs": []
    },
    {
     "cell_type": "code",
     "collapsed": false,
     "input": [
      "e.implicit_map(**e.__class__.DEFAULT_PARAMS)"
     ],
     "language": "python",
     "metadata": {},
     "outputs": []
    },
    {
     "cell_type": "code",
     "collapsed": false,
     "input": [
      "sol=e.general_explicit_map(params={'M_flight':0, 'T04': 1500})\n",
      "print(sol.success)\n",
      "print(sol.nfev)\n",
      "print(sol.fun)\n",
      "sol.params"
     ],
     "language": "python",
     "metadata": {},
     "outputs": []
    },
    {
     "cell_type": "code",
     "collapsed": false,
     "input": [
      "plt.figure(figsize=(6,8),dpi=150)\n",
      "sol = []\n",
      "for T04 in np.linspace(273.15, 1033.15, 10):\n",
      "   sol.append(e.general_explicit_map(params={'M_flight':0, 'T04': T04}))\n",
      "   plt.annotate(\"{:.0f}K\".format(T04), (sol[-1].params['MFP'], sol[-1].params['P0_ratio_c']))\n",
      "    \n",
      "MFP = [s.params['MFP'] for s in sol]\n",
      "P0_ratio = [s.params['P0_ratio_c'] for s in sol]\n",
      "\n",
      "# plt.plot(MFP_grid, P0_grid, 'k,')\n",
      "CS2 = plt.contour(MFP_grid, P0_grid, Mb, levels=np.arange(0,2,0.1), \n",
      "                    colors='k', linewidths=0.7*1.625)\n",
      "plt.clabel(CS2, CS2.levels, fmt='%.1f')\n",
      "CS2 = plt.contour(MFP_grid, P0_grid, eff, colors='k', linewidths=0.7,\n",
      "                  levels=[0.5,0.8,0.9,0.94,0.95])\n",
      "plt.clabel(CS2, CS2.levels, fmt='%.2f')\n",
      "plt.plot([MFP_choke, MFP_choke, sol_P1.params['MFP1']],\n",
      "         [P0_max, sol_cr.params['P0_ratio'], P0_min], 'k--', label='choke limit')\n",
      "\n",
      "plt.plot(MFP, P0_ratio, 'k.-', linewidth=0.7*1.62**2)\n",
      "plt.xlim((0,0.6))\n",
      "plt.ylim((1,2))\n",
      "plt.xlabel(\"MFP\")\n",
      "plt.ylabel(r\"$\\frac{P_{03}}{P_{02}}$\")\n",
      "# plt.legend((\"Mb\", \"eta_p\"))\n",
      "plt.legend()\n",
      "plt.savefig('map.pdf', dpi=300)"
     ],
     "language": "python",
     "metadata": {},
     "outputs": []
    },
    {
     "cell_type": "code",
     "collapsed": false,
     "input": [],
     "language": "python",
     "metadata": {},
     "outputs": []
    },
    {
     "cell_type": "code",
     "collapsed": false,
     "input": [],
     "language": "python",
     "metadata": {},
     "outputs": []
    }
   ],
   "metadata": {}
  }
 ]
}