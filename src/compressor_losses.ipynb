{
 "metadata": {
  "kernelspec": {
   "display_name": "Python 3",
   "language": "python",
   "name": "python3"
  },
  "language_info": {
   "codemirror_mode": {
    "name": "ipython",
    "version": 3
   },
   "file_extension": ".py",
   "mimetype": "text/x-python",
   "name": "python",
   "nbconvert_exporter": "python",
   "pygments_lexer": "ipython3",
   "version": "3.6.7"
  },
  "name": "",
  "signature": "sha256:e1b66821d7249130741521f672e824529c4b490bb0c05b315264afafc8effc55"
 },
 "nbformat": 3,
 "nbformat_minor": 0,
 "worksheets": [
  {
   "cells": [
    {
     "cell_type": "code",
     "collapsed": false,
     "input": [
      "import numpy as np\n",
      "import pandas as pd\n",
      "import matplotlib.pyplot as plt\n",
      "from math import tan\n",
      "\n",
      "import compressor_losses as losses\n",
      "from engine import Engine\n",
      "from mfp2mach import mfp2mach\n",
      "import tccsty"
     ],
     "language": "python",
     "metadata": {},
     "outputs": []
    },
    {
     "cell_type": "code",
     "collapsed": false,
     "input": [
      "e = Engine()\n",
      "e.initial_guess = e.general_explicit_map({'M_flight': 0, 'MFP': 0.3}).params\n",
      "T04 = np.linspace(600,1200,100)\n",
      "wline = e.working_line(T04)\n"
     ],
     "language": "python",
     "metadata": {},
     "outputs": []
    },
    {
     "cell_type": "code",
     "collapsed": false,
     "input": [
      "def get_losses(p, e):\n",
      "    \"\"\"\n",
      "    e: engine\n",
      "    p: param\n",
      "    \"\"\"\n",
      "    \n",
      "    MFP1 = p['MFP']\n",
      "    MFP2 = p['MFP3']\n",
      "    T0_ratio = p['T0_ratio_c']\n",
      "    Mb = p['Mb_c']\n",
      "    \n",
      "    gam = e.compressor.gam\n",
      "    slip_factor = 0.9\n",
      "    beta2 = e.compressor.geom['beta2']\n",
      "    A_ratio = e.compressor.geom['A_ratio']\n",
      "\n",
      "    #Non linear model\n",
      "    M1 = mfp2mach(MFP1, gam)\n",
      "    M2 = mfp2mach(MFP2, gam)\n",
      "\n",
      "    phi1 = MFP1/Mb*(1+(gam-1)/2*M1**2)**(1/(gam-1))\n",
      "    phi2 = MFP2/Mb*(1+(gam-1)/2*M2**2)**(1/(gam-1))*T0_ratio**0.5\n",
      "\n",
      "    psi_euler = slip_factor*(1-phi2*tan(beta2))\n",
      "    loss_internal = losses.internal(slip_factor=slip_factor, phi1=phi1, phi2=phi2, psi_euler=psi_euler, **e.compressor.geom)\n",
      "    loss_parasitic = losses.parasitic(slip_factor=slip_factor, phi1=phi1, phi2=phi2, psi_euler=psi_euler, **e.compressor.geom)\n",
      "    \n",
      "    loss_dict = {**p, **loss_internal, **loss_parasitic, 'slip_factor':slip_factor, 'phi1':phi1, 'phi2':phi2, 'psi_euler':psi_euler}\n",
      "\n",
      "    return loss_dict"
     ],
     "language": "python",
     "metadata": {},
     "outputs": []
    },
    {
     "cell_type": "code",
     "collapsed": false,
     "input": [
      "l = pd.DataFrame([get_losses(p, e) for p in wline])"
     ],
     "language": "python",
     "metadata": {},
     "outputs": []
    },
    {
     "cell_type": "code",
     "collapsed": false,
     "input": [
      "plt.figure(figsize=(4,3))\n",
      "plt.plot(l['MFP'], l['inducer_incidence_loss'], label='incid\u00eancia no indutor')\n",
      "plt.plot(l['MFP'], l['diffuser_incidence_loss'], label='incid\u00eancia no difusor')\n",
      "plt.plot(l['MFP'], l['skin_friction_loss'], label='fric\u00e7\u00e3o')\n",
      "plt.plot(l['MFP'], l['blade_loading_loss'], label='carregamento de p\u00e1')\n",
      "#plt.plot(l['MFP'], l['psi_euler'], label='carregamento de p\u00e1')\n",
      "plt.legend(loc='upper center')\n",
      "plt.ylim(0,0.05)\n",
      "plt.xlabel('MFP')\n",
      "plt.ylabel(r'$\\frac{\\Delta h}{(\\omega r)^2}$', rotation=0)\n",
      "plt.savefig('compressor_losses.pdf')"
     ],
     "language": "python",
     "metadata": {},
     "outputs": []
    }
   ],
   "metadata": {}
  }
 ]
}