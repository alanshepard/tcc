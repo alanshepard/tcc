{
 "metadata": {
  "name": "",
  "signature": "sha256:f31b8f1ef20a60b4271716a35757177d835149be1a4283dcab0df1260126907e"
 },
 "nbformat": 3,
 "nbformat_minor": 0,
 "worksheets": [
  {
   "cells": [
    {
     "cell_type": "code",
     "collapsed": false,
     "input": [
      "import numpy as np\n",
      "import matplotlib.pyplot as plt\n",
      "%matplotlib inline\n",
      "import pandas as pd\n",
      "\n",
      "from engine import Engine\n",
      "import tccsty"
     ],
     "language": "python",
     "metadata": {},
     "outputs": []
    },
    {
     "cell_type": "code",
     "collapsed": false,
     "input": [
      "e = Engine()\n",
      "N = np.array([45300, 55500, 66000, 76500, 88000, \n",
      "              97500, 108600, 128200, 149500])\n",
      "pr = 1+np.array([0.0837, 0.1317, 0.1949, 0.2692, 0.3632,\n",
      "               0.4750, 0.6220, 0.9858, 1.4685])\n",
      "F = np.array([4.0325, 6.3421, 9.5303, 13.0636, 17.6728, \n",
      "              23.1048, 30.3680, 48.4220, 73.7109])\n",
      "T8 = 273.15+np.array([609.4910,\n",
      "595.8417,\n",
      "582.3185,\n",
      "549.7798,\n",
      "549.5277,\n",
      "517.6733,\n",
      "502.2233,\n",
      "488.9522,\n",
      "511.6950])\n",
      "omega = 2*np.pi*N/60\n",
      "r = e.compressor.geom['D2']/2\n",
      "Mbc = omega*r / np.sqrt(e.compressor.gam*e.R_c*e.T01) \n",
      "Mbc_fine = np.linspace(Mbc[0], Mbc[-1], 100)"
     ],
     "language": "python",
     "metadata": {},
     "outputs": []
    },
    {
     "cell_type": "code",
     "collapsed": false,
     "input": [],
     "language": "python",
     "metadata": {},
     "outputs": []
    },
    {
     "cell_type": "code",
     "collapsed": false,
     "input": [
      "sol = e.general_explicit_map({'M_flight':0, 'P0_ratio_c': pr[-1]})\n",
      "params = sol.params\n",
      "sol"
     ],
     "language": "python",
     "metadata": {},
     "outputs": []
    },
    {
     "cell_type": "code",
     "collapsed": false,
     "input": [
      "params"
     ],
     "language": "python",
     "metadata": {},
     "outputs": []
    },
    {
     "cell_type": "code",
     "collapsed": false,
     "input": [
      "solutions=[]\n",
      "e.A8 = np.pi/4*45e-3**2\n",
      "for Mbc_iter in Mbc_fine:\n",
      "    sol = e.general_explicit_map({'M_flight':0, 'Mb_c': Mbc_iter},params)\n",
      "    print(sol.success)\n",
      "    if sol.success: \n",
      "        params = sol.params\n",
      "        solutions.append(sol.params)"
     ],
     "language": "python",
     "metadata": {},
     "outputs": []
    },
    {
     "cell_type": "code",
     "collapsed": false,
     "input": [
      "params"
     ],
     "language": "python",
     "metadata": {},
     "outputs": []
    },
    {
     "cell_type": "code",
     "collapsed": false,
     "input": [
      "for s in solutions: \n",
      "    s.update(e.dimensionalize(**s)._asdict())\n",
      "    s['F'] = e.thrust(**s)"
     ],
     "language": "python",
     "metadata": {},
     "outputs": []
    },
    {
     "cell_type": "code",
     "collapsed": false,
     "input": [
      "model = pd.DataFrame(solutions)\n",
      "model"
     ],
     "language": "python",
     "metadata": {},
     "outputs": []
    },
    {
     "cell_type": "code",
     "collapsed": false,
     "input": [
      "# OBS: falta corrigir os parametros pela pressao ambiente e temperatura\n",
      "fig, ax = plt.subplots(3,1, sharex=True, figsize=(18/2**0.5/2.54, 18/2.54))\n",
      "ax[0].grid()\n",
      "ax[1].grid()\n",
      "ax[2].grid()\n",
      "\n",
      "ax[2].set_xlabel(r'$M_{bc}$')\n",
      "ax[2].set_ylabel(r'$\\frac{P_{03}}{P_{02}}$')\n",
      "ax[2].plot(model['Mb_c'], model['P0_ratio_c'],'k', lw=tccsty.thick)\n",
      "ax[2].plot(Mbc, pr, 'k-o')\n",
      "\n",
      "ax[1].set_ylabel(r'$F$ [N]')\n",
      "ax[1].plot(model['Mb_c'], model['F'],'k', lw=tccsty.thick)\n",
      "ax[1].plot(Mbc, F, 'k-o')\n",
      "\n",
      "ax[0].set_ylabel(r'$T_8$ [K]')\n",
      "ax[0].plot(Mbc, T8, 'k-o')\n",
      "ax[0].plot(model['Mb_c'], model['T8'],'k', lw=tccsty.thick)\n",
      "ax[0].set_ylim(0,1000)\n",
      "ax[0].legend(['experiment', 'model'], loc='lower right')\n",
      "\n",
      "plt.savefig('experimental.pdf')"
     ],
     "language": "python",
     "metadata": {},
     "outputs": []
    },
    {
     "cell_type": "code",
     "collapsed": false,
     "input": [
      "e.compressor.plot_map(plt.gca())\n",
      "plt.plot(model['MFP'], model['P0_ratio_c'])"
     ],
     "language": "python",
     "metadata": {},
     "outputs": []
    },
    {
     "cell_type": "code",
     "collapsed": false,
     "input": [
      "model.to_csv('wline45mm.csv')"
     ],
     "language": "python",
     "metadata": {},
     "outputs": []
    },
    {
     "cell_type": "code",
     "collapsed": false,
     "input": [],
     "language": "python",
     "metadata": {},
     "outputs": []
    }
   ],
   "metadata": {}
  }
 ]
}