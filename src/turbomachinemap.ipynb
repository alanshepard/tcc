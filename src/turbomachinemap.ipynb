{
 "metadata": {
  "name": "",
  "signature": "sha256:59ff871dd462eb7a8ec50ff9f767c2f056954ba3c42a2a53a559ab97aa3d27a9"
 },
 "nbformat": 3,
 "nbformat_minor": 0,
 "worksheets": [
  {
   "cells": [
    {
     "cell_type": "code",
     "collapsed": false,
     "input": [
      "import numpy as np\n",
      "from collections import deque, OrderedDict\n",
      "import matplotlib.pyplot as plt\n",
      "import random\n",
      "import itertools\n",
      "%matplotlib inline\n",
      "\n",
      "from turbine import TurbineExtendedMap\n",
      "from compressor import Compressor\n",
      "from mfp2mach import mach2mfp"
     ],
     "language": "python",
     "metadata": {},
     "outputs": []
    },
    {
     "cell_type": "code",
     "collapsed": false,
     "input": [
      "#Inputs\n",
      "pr_min = 0.1\n",
      "pr_max = 1\n",
      "samples = 20\n",
      "x_param = 'MbMFP'\n",
      "smart_grid = False #'compressor' #Compressor, Turbine or False'\n",
      "show_grid = True\n",
      "t = TurbineExtendedMap()\n",
      "# t = Compressor()"
     ],
     "language": "python",
     "metadata": {},
     "outputs": []
    },
    {
     "cell_type": "code",
     "collapsed": false,
     "input": [
      "MFP_choke = mach2mfp(1, t.gam)"
     ],
     "language": "python",
     "metadata": {},
     "outputs": []
    },
    {
     "cell_type": "code",
     "collapsed": false,
     "input": [
      "sol_cr = t.general_explicit_map({'MFP1': MFP_choke, 'MFP2': MFP_choke})\n",
      "pr_cr = sol_cr.params['P0_ratio']\n",
      "sol_cr"
     ],
     "language": "python",
     "metadata": {},
     "outputs": []
    },
    {
     "cell_type": "code",
     "collapsed": false,
     "input": [
      "sol_almost_cr =t.general_explicit_map({'MFP1': 0.8*MFP_choke, 'MFP2': 0.8*MFP_choke})\n",
      "# t.initial_guess = {'MFP1': 0.20000000000000001, 'T0_ratio': 1.1454844884823765, 'Mb': 1.0, 'P0_ratio': 1.8014404953619207, 'MFP2': 0.11211881342950385, 'MbMFP': 0.2}#sol_almost_cr.params\n",
      "sol_almost_cr"
     ],
     "language": "python",
     "metadata": {},
     "outputs": []
    },
    {
     "cell_type": "code",
     "collapsed": false,
     "input": [
      "#Initialize storage\n",
      "\n",
      "solutions=[]\n",
      "x_grid = np.full((samples,samples), np.nan)\n",
      "pr_grid = np.full_like(x_grid, np.nan)\n",
      "success = np.full_like(x_grid, False, dtype=bool)\n",
      "nfev = np.zeros_like(x_grid, dtype=int)\n",
      "tries = np.zeros_like(nfev, dtype=int)\n",
      "params = dict([(k, np.full_like(x_grid, np.nan)) for k in sol_cr.params.keys()])"
     ],
     "language": "python",
     "metadata": {},
     "outputs": []
    },
    {
     "cell_type": "code",
     "collapsed": false,
     "input": [
      "# Make grid\n",
      "if smart_grid == 'compressor':\n",
      "    sol_choke=sol_almost_cr\n",
      "    for i, pr in enumerate(np.linspace(pr_min,pr_max,samples)):\n",
      "        if pr < pr_cr:\n",
      "            #Outlet choked\n",
      "            sol_choke = t.general_explicit_map({'MFP2': MFP_choke, 'P0_ratio': pr}, initial_guesses=sol_choke.params)\n",
      "        else:\n",
      "            #Inlet choked\n",
      "            sol_choke = t.general_explicit_map({'MFP1': MFP_choke, 'P0_ratio': pr}, initial_guesses=sol_choke.params)\n",
      "        x_grid[i,:] = np.linspace(0, sol_choke.params[x_param], samples)\n",
      "        pr_grid[i,:] = pr\n",
      "        success[i,-1] = sol_choke.success\n",
      "        nfev[i,-1] = sol_choke.nfev\n",
      "        for k in sol_choke.params.keys():\n",
      "            params[k][i,-1] = sol_choke.params[k] if sol_choke.success else np.nan\n",
      "else: #dumb grid\n",
      "    x_grid, pr_grid = np.meshgrid(np.linspace(0, 2*MFP_choke, samples), np.linspace(pr_min, pr_max, samples))"
     ],
     "language": "python",
     "metadata": {},
     "outputs": []
    },
    {
     "cell_type": "code",
     "collapsed": false,
     "input": [
      "_=plt.plot(x_grid,pr_grid, 'k,')\n",
      "plt.plot(sol_cr.params[x_param], sol_cr.params['P0_ratio'], 'm*')"
     ],
     "language": "python",
     "metadata": {},
     "outputs": []
    },
    {
     "cell_type": "code",
     "collapsed": false,
     "input": [
      "\n",
      "ijgrid = list(itertools.product(range(samples),repeat=2))\n",
      "random.shuffle(ijgrid)\n",
      "for i,j in ijgrid:\n",
      "    sol = t.general_explicit_map({x_param: x_grid[i,j], 'P0_ratio': pr_grid[i,j]})\n",
      "    if sol.success: \n",
      "        print(i,j)\n",
      "        break\n",
      "sol"
     ],
     "language": "python",
     "metadata": {},
     "outputs": []
    },
    {
     "cell_type": "code",
     "collapsed": false,
     "input": [
      "def bfs(i,j, sol):\n",
      "    \"\"\"\n",
      "    i, j: indexes of point\n",
      "    sol: solution for point\n",
      "    \"\"\"\n",
      "    assert sol.success, \"Make sure initial solution is successful\"\n",
      "    \n",
      "    # List to store search frontier \n",
      "    queue = OrderedDict() #substitute this by a pool to paralelize code (use concurrent.futures)\n",
      "    queue[(i,j)] = sol\n",
      "    \n",
      "    def visit(ii,jj,sol):\n",
      "        if 0<=ii<samples and 0<=jj<samples: # Only visit valid addresses\n",
      "            if not success[ii,jj]:\n",
      "                \n",
      "                if (ii,jj) in queue:\n",
      "                    if queue[(ii,jj)].success:\n",
      "                        return\n",
      "                    else:\n",
      "                        del queue[(ii,jj)]\n",
      "                        \n",
      "                assert (ii,jj) not in queue\n",
      "                sol=t.general_explicit_map(params={x_param: x_grid[ii,jj], 'P0_ratio': pr_grid[ii,jj]},\n",
      "                                           initial_guesses=sol.params)\n",
      "                queue[(ii, jj)] = sol\n",
      "                tries[ii,jj]+=1\n",
      "                \n",
      "    while queue:\n",
      "        (i,j), sol = queue.popitem(last=False)\n",
      "        print(i,j)\n",
      "        \n",
      "        success[i,j] = sol.success\n",
      "        nfev[i,j] = sol.nfev\n",
      "        \n",
      "        \n",
      "        for k in sol.params.keys():\n",
      "            params[k][i,j] = sol.params[k] if sol.success else np.nan\n",
      "        \n",
      "        if sol.success:\n",
      "            visit(i+1,j  ,sol)\n",
      "            visit(i-1,j  ,sol)\n",
      "            visit(i  ,j+1,sol)\n",
      "            visit(i  ,j-1,sol)\n",
      "            visit(i+1,j+1,sol)\n",
      "            visit(i+1,j-1,sol)\n",
      "            visit(i-1,j-1,sol)\n",
      "            visit(i-1,j+1,sol)\n",
      "\n",
      "bfs(i,j,sol)"
     ],
     "language": "python",
     "metadata": {},
     "outputs": []
    },
    {
     "cell_type": "code",
     "collapsed": false,
     "input": [
      "# for i in range(samples-1):\n",
      "#     for j in range(samples):\n",
      "#         sol = t.general_explicit_map({x_param: x_grid[i,j], 'P0_ratio': pr_grid[i,j]})\n",
      "#         solutions.append(sol)\n",
      "#         success[i,j] = sol.success\n",
      "#         nfev[i,j] = sol.nfev\n",
      "        \n",
      "#         for k in sol.params.keys():\n",
      "#             params[k][i,j] = sol.params[k] if sol.success else np.nan\n",
      "        "
     ],
     "language": "python",
     "metadata": {},
     "outputs": []
    },
    {
     "cell_type": "code",
     "collapsed": false,
     "input": [
      "plt.imshow(success, origin='lower')\n",
      "plt.colorbar()"
     ],
     "language": "python",
     "metadata": {},
     "outputs": []
    },
    {
     "cell_type": "code",
     "collapsed": false,
     "input": [
      "plt.imshow(tries, origin='lower')\n",
      "plt.colorbar()\n",
      "np.max(tries)"
     ],
     "language": "python",
     "metadata": {},
     "outputs": []
    },
    {
     "cell_type": "code",
     "collapsed": false,
     "input": [
      "plt.imshow(nfev, origin='lower', cmap='seismic')\n",
      "plt.colorbar()"
     ],
     "language": "python",
     "metadata": {},
     "outputs": []
    },
    {
     "cell_type": "code",
     "collapsed": false,
     "input": [
      "for name, data in params.items():\n",
      "    plt.figure()\n",
      "    plt.imshow(data, origin='lower')   \n",
      "    plt.colorbar()\n",
      "    CS = plt.contour(data, colors='k')\n",
      "    plt.clabel(CS)\n",
      "    plt.title(name)\n",
      "\n"
     ],
     "language": "python",
     "metadata": {},
     "outputs": []
    },
    {
     "cell_type": "code",
     "collapsed": false,
     "input": [
      "params['eff'] = (t.gam-1)/t.gam*np.log(params['P0_ratio'])/np.log(params['T0_ratio'])\n",
      "plt.imshow(1/(1-params['eff']), origin='lower')\n",
      "plt.colorbar()\n",
      "plt.contour(params['eff'], levels = sorted(1/np.linspace(0.1,1,10)/10))\n"
     ],
     "language": "python",
     "metadata": {},
     "outputs": []
    },
    {
     "cell_type": "code",
     "collapsed": false,
     "input": [
      "CS = plt.contour(x_grid, 1/pr_grid, params['Mb'], levels=np.arange(0,2,0.1), colors='k')\n",
      "plt.clabel(CS, CS.levels, fmt='%.1f', inline=False)\n",
      "CS2 = plt.contour(x_grid, 1/pr_grid, params['eff'], colors='k')\n",
      "plt.clabel(CS2, CS2.levels, fmt=lambda x: \"{:.4f}\".format(1-1/x))\n",
      "if show_grid:\n",
      "    plt.plot(x_grid, 1/pr_grid, 'k,')\n",
      "plt.ylim(1,3)"
     ],
     "language": "python",
     "metadata": {},
     "outputs": []
    },
    {
     "cell_type": "code",
     "collapsed": false,
     "input": [
      "plt.imshow(tries>1 & success)"
     ],
     "language": "python",
     "metadata": {},
     "outputs": []
    },
    {
     "cell_type": "code",
     "collapsed": false,
     "input": [
      "np.sum(tries>1 & success)"
     ],
     "language": "python",
     "metadata": {},
     "outputs": []
    },
    {
     "cell_type": "code",
     "collapsed": false,
     "input": [],
     "language": "python",
     "metadata": {},
     "outputs": []
    }
   ],
   "metadata": {}
  }
 ]
}