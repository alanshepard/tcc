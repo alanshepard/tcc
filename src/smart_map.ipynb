{
 "metadata": {
  "name": "",
  "signature": "sha256:5e79f93a30e7e5ecfa35e8b47bd4ddc45382a7cd9465e9afee687f58e8a51d07"
 },
 "nbformat": 3,
 "nbformat_minor": 0,
 "worksheets": [
  {
   "cells": [
    {
     "cell_type": "code",
     "collapsed": false,
     "input": [
      "import numpy as np\n",
      "%matplotlib inline\n",
      "from collections import deque"
     ],
     "language": "python",
     "metadata": {},
     "outputs": [],
     "prompt_number": 1
    },
    {
     "cell_type": "code",
     "collapsed": false,
     "input": [
      "from compressor import Compressor\n",
      "from turbine import Turbine\n",
      "from mfp2mach import mach2mfp"
     ],
     "language": "python",
     "metadata": {},
     "outputs": [],
     "prompt_number": 2
    },
    {
     "cell_type": "code",
     "collapsed": false,
     "input": [
      "c=Turbine()\n",
      "MFP_choke = mach2mfp(1, c.gam)"
     ],
     "language": "python",
     "metadata": {},
     "outputs": [],
     "prompt_number": 3
    },
    {
     "cell_type": "code",
     "collapsed": false,
     "input": [
      "samples = 20\n",
      "MFP1, MFP2 = np.meshgrid(np.linspace(1e-2, MFP_choke, samples),\n",
      "                         np.linspace(1e-2, MFP_choke, samples))\n",
      "success = np.full((samples, samples), False, dtype=bool)\n",
      "nfev = np.zeros_like(success, dtype=int)\n",
      "tries = np.zeros_like(success, dtype=int)\n",
      "Mb = np.full_like(success,np.nan, dtype=float)\n",
      "T0_ratio = np.full_like(success, np.nan, dtype=float)\n",
      "P0_ratio = np.full_like(success, np.nan, dtype=float)"
     ],
     "language": "python",
     "metadata": {},
     "outputs": [],
     "prompt_number": 4
    },
    {
     "cell_type": "code",
     "collapsed": false,
     "input": [
      "def bfs(i,j, sol):\n",
      "    \"\"\"\n",
      "    i, j: indexes of point\n",
      "    sol: solution for point\n",
      "    \"\"\"\n",
      "    # List to store search frontier \n",
      "    d = deque() #substitute this by a pool to paralelize code\n",
      "    \n",
      "    success[i,j] = sol.success\n",
      "    nfev[i,j] = sol.nfev\n",
      "    Mb[i,j] = sol.params['Mb'] if sol.success else np.nan\n",
      "    T0_ratio[i,j] = sol.params['T0_ratio'] if sol.success else np.nan\n",
      "    P0_ratio[i,j] = sol.params['P0_ratio'] if sol.success else np.nan\n",
      "    d.appendleft((i,j))\n",
      "    \n",
      "    def visit(ii,jj):\n",
      "        if 0<=ii<samples and 0<=jj<samples: # Only visit valid addresses\n",
      "            if not success[ii,jj]:\n",
      "                sol=c.general_explicit_map(params={'MFP1': MFP1[ii,jj], 'MFP2': MFP2[ii,jj]},\n",
      "                                           initial_guesses={'Mb': Mb[i,j], 'T0_ratio': T0_ratio[i,j], 'P0_ratio': P0_ratio[i,j]})\n",
      "                success[ii,jj] = sol.success\n",
      "                nfev[ii,jj] = sol.nfev\n",
      "                Mb[ii,jj] = sol.params['Mb'] if sol.success else np.nan\n",
      "                T0_ratio[ii,jj] = sol.params['T0_ratio'] if sol.success else np.nan\n",
      "                P0_ratio[ii,jj] = sol.params['P0_ratio'] if sol.success else np.nan\n",
      "                tries[ii,jj]+=1\n",
      "#                 parent[ii,jj] = (i,j)\n",
      "                \n",
      "                if sol.success:\n",
      "                    d.appendleft((ii, jj))    \n",
      "                \n",
      "    while d:\n",
      "        i,j = d.pop()\n",
      "        assert success[i,j]==True\n",
      "        \n",
      "        visit(i+1, j)\n",
      "        visit(i-1, j)\n",
      "        visit(i, j+1)\n",
      "        visit(i, j-1)\n",
      "        visit(i+1,j+1)\n",
      "        visit(i+1,j-1)\n",
      "        visit(i-1,j-1)\n",
      "        visit(i-1,j+1)\n"
     ],
     "language": "python",
     "metadata": {},
     "outputs": [],
     "prompt_number": 5
    },
    {
     "cell_type": "code",
     "collapsed": false,
     "input": [
      "i,j = samples//2, samples//2\n",
      "sol = c.general_explicit_map(params={'MFP1': MFP1[i,j], 'MFP2': MFP2[i,j]})\n",
      "sol"
     ],
     "language": "python",
     "metadata": {},
     "outputs": [
      {
       "metadata": {},
       "output_type": "pyout",
       "prompt_number": 6,
       "text": [
        "    fjac: array([[-0.15663023,  0.96889537,  0.19159524],\n",
        "       [-0.36402687,  0.12369876, -0.92313761],\n",
        "       [ 0.91812385,  0.21433707, -0.33332898]])\n",
        "     fun: array([  9.15933995e-15,  -1.36557432e-14,  -7.46069873e-14])\n",
        " message: 'The solution converged.'\n",
        "    nfev: 19\n",
        "  params: {'MFP2': 0.31275147165129558, 'T0_ratio': 0.98496150030837992, 'MFP1': 0.31275147165129558, 'P0_ratio': 0.93644751129388559, 'Mb': 1.0088890571077822}\n",
        "     qtf: array([  7.77020927e-12,  -1.72775465e-11,  -7.98134108e-12])\n",
        "       r: array([ 1.09180614,  0.11629322, -0.49278543, -0.99727314,  1.02829616,\n",
        "        0.32101812])\n",
        "  status: 1\n",
        " success: True\n",
        "       x: array([ 0.9849615 ,  0.93644751,  1.00888906])"
       ]
      }
     ],
     "prompt_number": 6
    },
    {
     "cell_type": "code",
     "collapsed": false,
     "input": [
      "bfs(i,j,sol)"
     ],
     "language": "python",
     "metadata": {},
     "outputs": [
      {
       "output_type": "stream",
       "stream": "stderr",
       "text": [
        "/home/bernardo/Dropbox/tcc/src/turbine.py:37: RuntimeWarning: invalid value encountered in double_scalars\n",
        "  phi5 = MFP2/Mb*(1+(gam-1)/2*M5**2)**(1/(gam-1))*T0_ratio**0.5\n",
        "/home/bernardo/Dropbox/tcc/src/turbine.py:42: RuntimeWarning: invalid value encountered in double_scalars\n",
        "  res_MFP = MFP2 - MFP1*T0_ratio**0.5/(A_ratio*P0_ratio)\n"
       ]
      }
     ],
     "prompt_number": 7
    },
    {
     "cell_type": "code",
     "collapsed": false,
     "input": [
      "import matplotlib.pyplot as plt"
     ],
     "language": "python",
     "metadata": {},
     "outputs": [],
     "prompt_number": 8
    },
    {
     "cell_type": "code",
     "collapsed": false,
     "input": [
      "plt.imshow(success, origin='lower')"
     ],
     "language": "python",
     "metadata": {},
     "outputs": [
      {
       "metadata": {},
       "output_type": "pyout",
       "prompt_number": 9,
       "text": [
        "<matplotlib.image.AxesImage at 0x7fc2a2fa5a90>"
       ]
      },
      {
       "output_type": "stream",
       "stream": "stderr",
       "text": [
        "/usr/lib/python3/dist-packages/matplotlib/figure.py:1744: UserWarning: This figure includes Axes that are not compatible with tight_layout, so its results might be incorrect.\n",
        "  warnings.warn(\"This figure includes Axes that are not \"\n"
       ]
      },
      {
       "metadata": {},
       "output_type": "display_data",
       "png": "[encoded data removed]",
       "text": [
        "<matplotlib.figure.Figure at 0x7fc2a4fe0208>"
       ]
      }
     ],
     "prompt_number": 9
    },
    {
     "cell_type": "code",
     "collapsed": false,
     "input": [
      "tries"
     ],
     "language": "python",
     "metadata": {},
     "outputs": [
      {
       "metadata": {},
       "output_type": "pyout",
       "prompt_number": 10,
       "text": [
        "array([[1, 1, 1, 1, 1, 1, 1, 1, 1, 1, 1, 1, 1, 1, 1, 1, 1, 1, 1, 1],\n",
        "       [1, 3, 1, 1, 1, 1, 1, 1, 1, 1, 1, 1, 1, 1, 1, 1, 1, 1, 1, 1],\n",
        "       [0, 1, 3, 1, 1, 1, 1, 1, 1, 1, 1, 1, 1, 1, 1, 1, 1, 1, 1, 1],\n",
        "       [0, 0, 1, 3, 1, 1, 1, 1, 1, 1, 1, 1, 1, 1, 1, 1, 1, 1, 1, 1],\n",
        "       [0, 0, 0, 1, 4, 1, 1, 1, 1, 1, 1, 1, 1, 1, 1, 1, 1, 1, 1, 1],\n",
        "       [0, 0, 0, 0, 2, 1, 1, 1, 1, 1, 1, 1, 1, 1, 1, 1, 1, 1, 1, 1],\n",
        "       [0, 0, 0, 0, 1, 3, 1, 1, 1, 1, 1, 1, 1, 1, 1, 1, 1, 1, 1, 1],\n",
        "       [0, 0, 0, 0, 0, 1, 3, 1, 1, 1, 1, 1, 1, 1, 1, 1, 1, 1, 1, 1],\n",
        "       [0, 0, 0, 0, 0, 0, 1, 4, 1, 1, 1, 1, 1, 1, 1, 1, 1, 1, 1, 1],\n",
        "       [0, 0, 0, 0, 0, 0, 0, 2, 1, 1, 1, 1, 1, 1, 1, 1, 1, 1, 1, 1],\n",
        "       [0, 0, 0, 0, 0, 0, 0, 1, 4, 1, 0, 1, 1, 1, 1, 1, 1, 1, 1, 1],\n",
        "       [0, 0, 0, 0, 0, 0, 0, 0, 3, 1, 1, 1, 1, 1, 1, 1, 1, 1, 1, 1],\n",
        "       [0, 0, 0, 0, 0, 0, 0, 0, 2, 1, 1, 1, 1, 1, 1, 1, 1, 1, 1, 1],\n",
        "       [0, 0, 0, 0, 0, 0, 0, 0, 1, 4, 1, 1, 1, 1, 1, 1, 1, 1, 1, 1],\n",
        "       [0, 0, 0, 0, 0, 0, 0, 0, 0, 3, 1, 1, 1, 1, 1, 1, 1, 1, 1, 1],\n",
        "       [0, 0, 0, 0, 0, 0, 0, 0, 0, 3, 1, 1, 1, 1, 1, 1, 1, 1, 1, 1],\n",
        "       [0, 0, 0, 0, 0, 0, 0, 0, 0, 3, 1, 1, 1, 1, 1, 1, 1, 1, 1, 1],\n",
        "       [0, 0, 0, 0, 0, 0, 0, 0, 0, 3, 1, 1, 1, 1, 1, 1, 1, 1, 1, 1],\n",
        "       [0, 0, 0, 0, 0, 0, 0, 1, 2, 5, 1, 1, 1, 1, 1, 1, 1, 1, 1, 1],\n",
        "       [0, 0, 0, 0, 0, 0, 0, 1, 1, 1, 1, 1, 1, 1, 1, 1, 1, 1, 1, 1]])"
       ]
      }
     ],
     "prompt_number": 10
    },
    {
     "cell_type": "code",
     "collapsed": false,
     "input": [
      "plt.imshow(nfev, origin='lower')"
     ],
     "language": "python",
     "metadata": {},
     "outputs": [
      {
       "metadata": {},
       "output_type": "pyout",
       "prompt_number": 11,
       "text": [
        "<matplotlib.image.AxesImage at 0x7fc2a23deb38>"
       ]
      },
      {
       "metadata": {},
       "output_type": "display_data",
       "png": "[encoded data removed]",
       "text": [
        "<matplotlib.figure.Figure at 0x7fc2a279deb8>"
       ]
      }
     ],
     "prompt_number": 11
    },
    {
     "cell_type": "code",
     "collapsed": false,
     "input": [
      "plt.imshow(Mb, origin='lower')"
     ],
     "language": "python",
     "metadata": {},
     "outputs": [
      {
       "metadata": {},
       "output_type": "pyout",
       "prompt_number": 12,
       "text": [
        "<matplotlib.image.AxesImage at 0x7fc2a2eb8e10>"
       ]
      },
      {
       "metadata": {},
       "output_type": "display_data",
       "png": "[encoded data removed]",
       "text": [
        "<matplotlib.figure.Figure at 0x7fc2a27b9cf8>"
       ]
      }
     ],
     "prompt_number": 12
    },
    {
     "cell_type": "code",
     "collapsed": false,
     "input": [
      "plt.imshow(1/P0_ratio, origin='lower')"
     ],
     "language": "python",
     "metadata": {},
     "outputs": [
      {
       "metadata": {},
       "output_type": "pyout",
       "prompt_number": 13,
       "text": [
        "<matplotlib.image.AxesImage at 0x7fc2a2e72cc0>"
       ]
      },
      {
       "metadata": {},
       "output_type": "display_data",
       "png": "[encoded data removed]",
       "text": [
        "<matplotlib.figure.Figure at 0x7fc2a2f25d30>"
       ]
      }
     ],
     "prompt_number": 13
    },
    {
     "cell_type": "code",
     "collapsed": false,
     "input": [
      "plt.contour(MFP1,MFP2,Mb)"
     ],
     "language": "python",
     "metadata": {},
     "outputs": [
      {
       "metadata": {},
       "output_type": "pyout",
       "prompt_number": 14,
       "text": [
        "<matplotlib.contour.QuadContourSet at 0x7fc2a27ca208>"
       ]
      },
      {
       "metadata": {},
       "output_type": "display_data",
       "png": "[encoded data removed]",
       "text": [
        "<matplotlib.figure.Figure at 0x7fc2a2ee2940>"
       ]
      }
     ],
     "prompt_number": 14
    },
    {
     "cell_type": "code",
     "collapsed": false,
     "input": [
      "import scipy.interpolate"
     ],
     "language": "python",
     "metadata": {},
     "outputs": [],
     "prompt_number": 15
    },
    {
     "cell_type": "code",
     "collapsed": false,
     "input": [
      "P0 = np.linspace(0.2,1,100)\n",
      "MFP = np.linspace(0, MFP_choke,100)\n",
      "MFP, P0 = np.meshgrid(MFP, P0)\n",
      "Mb_grid = scipy.interpolate.griddata((MFP1[success].flatten(), 1/P0_ratio[success].flatten()), Mb[success].flatten(), (MFP, 1/P0), method='linear')\n",
      "\n",
      "plt.contour(MFP, 1/P0, Mb_grid, levels=np.arange(0,4,0.1))\n",
      "plt.plot(MFP1, 1/P0_ratio, ',k')\n",
      "plt.grid()\n",
      "plt.savefig('tmap.pdf')\n",
      "# plt.ylim(1,4)"
     ],
     "language": "python",
     "metadata": {},
     "outputs": [
      {
       "metadata": {},
       "output_type": "display_data",
       "png": "[encoded data removed]",
       "text": [
        "<matplotlib.figure.Figure at 0x7fc2a240e0b8>"
       ]
      }
     ],
     "prompt_number": 19
    }
   ],
   "metadata": {}
  }
 ]
}